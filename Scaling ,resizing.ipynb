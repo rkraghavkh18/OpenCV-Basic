{
 "cells": [
  {
   "cell_type": "code",
   "execution_count": 1,
   "metadata": {},
   "outputs": [],
   "source": [
    "import cv2\n",
    "import numpy as np \n",
    "image = cv2.imread('Master OpenCV/images/input.jpg')\n",
    "\n",
    "image_scaled=cv2.resize(image,None,fx=0.75,fy=0.75)\n",
    "\n",
    "cv2.imshow('Scaling:Linear Intrpolation',image_scaled)\n",
    "cv2.waitKey()\n",
    "\n",
    "img_scaled= cv2.resize(image,None,fx=2 ,fy=2,interpolation=cv2.INTER_CUBIC)\n",
    "cv2.imshow('Scaling= Cubic Interpolation',img_scaled)\n",
    "cv2.waitKey()\n",
    "\n",
    "\n",
    "img_scaled= cv2.resize(image,(900,400),interpolation=cv2.INTER_AREA)\n",
    "cv2.imshow('Scaling= Skewed Size',img_scaled)\n",
    "cv2.waitKey()\n",
    "\n",
    "cv2.destroyAllWindows()\n",
    "\n",
    "\n"
   ]
  },
  {
   "cell_type": "code",
   "execution_count": null,
   "metadata": {},
   "outputs": [],
   "source": []
  }
 ],
 "metadata": {
  "kernelspec": {
   "display_name": "Python 3",
   "language": "python",
   "name": "python3"
  },
  "language_info": {
   "codemirror_mode": {
    "name": "ipython",
    "version": 3
   },
   "file_extension": ".py",
   "mimetype": "text/x-python",
   "name": "python",
   "nbconvert_exporter": "python",
   "pygments_lexer": "ipython3",
   "version": "3.6.2"
  }
 },
 "nbformat": 4,
 "nbformat_minor": 4
}
