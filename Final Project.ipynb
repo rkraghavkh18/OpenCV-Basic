{
 "cells": [
  {
   "cell_type": "code",
   "execution_count": null,
   "metadata": {},
   "outputs": [],
   "source": [
    " \n",
    "import numpy as np \n",
    "import cv2 \n",
    "img2 = cv2.imread('arrow.png', cv2.IMREAD_COLOR) \n",
    "img = cv2.imread('arrow.png', cv2.IMREAD_GRAYSCALE) \n",
    "\n",
    "height, width = img.shape[:2]\n",
    "\n",
    "start_row, start_col = int(0), int(0)\n",
    "end_row, end_col = int(height), int(width * 0.5)\n",
    "cropped_left = img[start_row:end_row , start_col:end_col]\n",
    "_,threshold1 = cv2.threshold(cropped_left, 110, 255, cv2.THRESH_BINARY) \n",
    "_,contours,_=cv2.findContours(threshold1, cv2.RETR_EXTERNAL, cv2.CHAIN_APPROX_NONE) \n",
    "area_left = 0\n",
    "for cnt in contours : \n",
    "\tarea_left = cv2.contourArea(cnt) \n",
    "\n",
    "####\n",
    "\n",
    "start_row, start_col = int(0), int(width * 0.5)\n",
    "end_row, end_col = int(height), int(width)\n",
    "cropped_right = img[start_row:end_row , start_col:end_col]\n",
    "_,threshold2 = cv2.threshold(cropped_right, 110, 255, cv2.THRESH_BINARY) \n",
    "_,contours,_=cv2.findContours(threshold2, cv2.RETR_EXTERNAL, cv2.CHAIN_APPROX_NONE) \n",
    "\n",
    "area_right = 0\n",
    "for cnt in contours : \n",
    "\tarea_right = cv2.contourArea(cnt) \n",
    "\n",
    "\n",
    "\n",
    "if area_left>area_right:\n",
    "    text = \"Left \"\n",
    "    cv2.putText(img2, text, (10, 20), cv2.FONT_HERSHEY_SIMPLEX, 1, (0, 100, 255), 2)\n",
    "else:\n",
    "    text = \"Right\"\n",
    "    cv2.putText(img2, text, (10,20), cv2.FONT_HERSHEY_SIMPLEX, 1, (0, 100, 255), 2)\n",
    "    \n",
    "cv2.imshow(\"Direction of the image\",img2)\n",
    "cv2.waitKey(0)\n",
    "cv2.destroyAllWindows()\n"
   ]
  },
  {
   "cell_type": "code",
   "execution_count": null,
   "metadata": {},
   "outputs": [],
   "source": []
  }
 ],
 "metadata": {
  "kernelspec": {
   "display_name": "Python 3",
   "language": "python",
   "name": "python3"
  },
  "language_info": {
   "codemirror_mode": {
    "name": "ipython",
    "version": 3
   },
   "file_extension": ".py",
   "mimetype": "text/x-python",
   "name": "python",
   "nbconvert_exporter": "python",
   "pygments_lexer": "ipython3",
   "version": "3.6.2"
  }
 },
 "nbformat": 4,
 "nbformat_minor": 4
}
