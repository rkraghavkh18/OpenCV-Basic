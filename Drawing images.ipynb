{
 "cells": [
  {
   "cell_type": "code",
   "execution_count": null,
   "metadata": {},
   "outputs": [],
   "source": [
    "import cv2 \n",
    "\n",
    "import numpy as np \n",
    "\n",
    "\n",
    "image= np.zeros((512,512,3),np.uint8)\n",
    "image_bw= np.zeros((512,512),np.uint8)\n",
    "\n",
    "cv2.imshow('Black Rectangle (Color)',image)\n",
    "cv2.imshow('Black Rectangle (B&W)',image_bw)\n",
    "\n",
    "cv2.waitKey(0)\n",
    "cv2.destroyAllWindows()\n"
   ]
  },
  {
   "cell_type": "code",
   "execution_count": null,
   "metadata": {},
   "outputs": [],
   "source": [
    "image = np.zeros((512,512,3),np.uint8)\n",
    "cv2.line(image,(0,0),(511,511),(255,127,0),5)\n",
    "cv2.imshow('Blue Line',image)\n",
    "cv2.waitKey(0)\n",
    "cv2.destroyAllWindows()                 \n",
    "        "
   ]
  },
  {
   "cell_type": "code",
   "execution_count": null,
   "metadata": {},
   "outputs": [],
   "source": [
    "image= np.zeros"
   ]
  }
 ],
 "metadata": {
  "kernelspec": {
   "display_name": "Python 3",
   "language": "python",
   "name": "python3"
  },
  "language_info": {
   "codemirror_mode": {
    "name": "ipython",
    "version": 3
   },
   "file_extension": ".py",
   "mimetype": "text/x-python",
   "name": "python",
   "nbconvert_exporter": "python",
   "pygments_lexer": "ipython3",
   "version": "3.6.2"
  }
 },
 "nbformat": 4,
 "nbformat_minor": 4
}
