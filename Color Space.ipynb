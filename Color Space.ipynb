{
 "cells": [
  {
   "cell_type": "code",
   "execution_count": 3,
   "metadata": {},
   "outputs": [],
   "source": [
    "import cv2\n",
    "import numpy as np\n",
    "\n",
    "image = cv2.imread('Master OpenCV/images/input.jpg')"
   ]
  },
  {
   "cell_type": "code",
   "execution_count": 6,
   "metadata": {},
   "outputs": [
    {
     "name": "stdout",
     "output_type": "stream",
     "text": [
      "12 18 31\n",
      "(830, 1245, 3)\n"
     ]
    }
   ],
   "source": [
    "B,G,R = image[0,0]\n",
    "print (B,G,R)\n",
    "print(image.shape)"
   ]
  },
  {
   "cell_type": "code",
   "execution_count": 7,
   "metadata": {},
   "outputs": [
    {
     "name": "stdout",
     "output_type": "stream",
     "text": [
      "(830, 1245)\n"
     ]
    }
   ],
   "source": [
    "gray_img= cv2.cvtColor(image,cv2.COLOR_BGR2GRAY)\n",
    "print(gray_img.shape )"
   ]
  },
  {
   "cell_type": "code",
   "execution_count": 8,
   "metadata": {},
   "outputs": [
    {
     "data": {
      "text/plain": [
       "21"
      ]
     },
     "execution_count": 8,
     "metadata": {},
     "output_type": "execute_result"
    }
   ],
   "source": [
    "gray_img[0,0]"
   ]
  },
  {
   "cell_type": "code",
   "execution_count": 9,
   "metadata": {},
   "outputs": [],
   "source": [
    "image=cv2.imread('Master OpenCV/images/input.jpg')\n",
    "\n",
    "hsv_image = cv2.cvtColor(image,cv2.COLOR_BGR2HSV)\n",
    "\n",
    "cv2.imshow('HSV IMAGE',hsv_image)\n",
    "cv2.imshow('Hue Channel ', hsv_image[:,:,0])\n",
    "cv2.imshow('Saturation channel',hsv_image[:,:,1])\n",
    "cv2.imshow('Value channel',hsv_image[:,:,2])\n",
    "cv2.waitKey()\n",
    "cv2.destroyAllWindows()\n",
    "\n",
    "\n",
    "\n",
    "\n",
    "\n",
    "\n"
   ]
  },
  {
   "cell_type": "code",
   "execution_count": null,
   "metadata": {},
   "outputs": [
    {
     "name": "stdout",
     "output_type": "stream",
     "text": [
      "(830, 1245)\n"
     ]
    }
   ],
   "source": [
    "image=cv2.imread('Master OpenCV/images/input.jpg')\n",
    "\n",
    "\n",
    "B,G,R =cv2.split(image)\n",
    "\n",
    "\n",
    "print(B.shape)\n",
    "cv2.imshow('Red',R)\n",
    "cv2.imshow('Green',G)\n",
    "cv2.imshow('Blue',B)\n",
    "cv2.waitKey(0)\n",
    "cv2.destroyAllWindows()\n",
    "\n",
    "merged=cv2.merge([B,G,R])\n",
    "cv2.imshow('Merge',merged)\n",
    "\n",
    "merged=cv2.merge([B+100,G,R])\n",
    "cv2.imshow('amplified merged',merged)\n",
    "cv2.waitKey(0)\n",
    "cv2.destroyAllWindows()\n",
    "\n",
    "\n",
    "\n",
    "\n"
   ]
  },
  {
   "cell_type": "code",
   "execution_count": null,
   "metadata": {},
   "outputs": [],
   "source": [
    "import cv2\n",
    "import numpy as np \n",
    "\n",
    "B,G,R =cv2.split(image)\n",
    "\n",
    "\n",
    "zeros= np.zeros(image.shape[:2],dtype=\"uint8\")\n",
    "cv2.imshow('Red',cv2.merge([zeros,zeros,R]))\n",
    "cv2.imshow('Green',cv2.merge([zeros,G,zeros]))\n",
    "cv2.imshow('Blue',cv2.merge([B,zeros,zeros]))\n",
    "\n",
    "\n",
    "cv2.waitKey(0)\n",
    "cv2.destroyAllWindows()\n"
   ]
  },
  {
   "cell_type": "code",
   "execution_count": null,
   "metadata": {},
   "outputs": [],
   "source": []
  }
 ],
 "metadata": {
  "kernelspec": {
   "display_name": "Python 3",
   "language": "python",
   "name": "python3"
  },
  "language_info": {
   "codemirror_mode": {
    "name": "ipython",
    "version": 3
   },
   "file_extension": ".py",
   "mimetype": "text/x-python",
   "name": "python",
   "nbconvert_exporter": "python",
   "pygments_lexer": "ipython3",
   "version": "3.7.7"
  }
 },
 "nbformat": 4,
 "nbformat_minor": 4
}
